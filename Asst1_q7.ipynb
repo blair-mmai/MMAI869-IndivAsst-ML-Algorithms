{
 "cells": [
  {
   "cell_type": "markdown",
   "metadata": {},
   "source": [
    "## Asst 1, Question 7\n",
    "### Blair Nicolle\n",
    "\n",
    "### Please Also See Main Assignment Document for Addnl Discussion.\n"
   ]
  },
  {
   "cell_type": "code",
   "execution_count": 71,
   "metadata": {},
   "outputs": [
    {
     "name": "stdout",
     "output_type": "stream",
     "text": [
      "2019-11-11 22:28:09.399603\n"
     ]
    }
   ],
   "source": [
    "import matplotlib.pyplot as plt\n",
    "import seaborn as sns; sns.set() # for plot stlying.\n",
    "import numpy as np\n",
    "import pandas as pd\n",
    "\n",
    "import datetime\n",
    "print(datetime.datetime.now())\n",
    "\n",
    "## Show all lines of output and not just the output of the last statement in the iPython console\n",
    "# from IPython.core.interactiveshell import InteractiveShell\n",
    "# InteractiveShell.ast_node_interactivity = \"all\"\n",
    "\n",
    "##For Jupyter\n",
    "# %matplotlib inline  \n",
    "\n",
    "#a pristine copy of the original dataframe\n",
    "df_raw =  pd.read_csv(\"./OJ.csv\", encoding='latin-1')\n",
    "\n",
    "#df_full will eventually have addnl columns added to it during data engineering\n",
    "df_full = df_raw\n",
    "\n"
   ]
  },
  {
   "cell_type": "code",
   "execution_count": 72,
   "metadata": {},
   "outputs": [
    {
     "data": {
      "text/plain": [
       "<matplotlib.axes._subplots.AxesSubplot at 0x19a6b3c29b0>"
      ]
     },
     "execution_count": 72,
     "metadata": {},
     "output_type": "execute_result"
    },
    {
     "data": {
      "image/png": "[encoded data removed]",
      "text/plain": [
       "<Figure size 432x288 with 1 Axes>"
      ]
     },
     "metadata": {},
     "output_type": "display_data"
    }
   ],
   "source": [
    "#### Some basic EDA \n",
    "\n",
    "#df_raw.columns\n",
    "#Index(['Unnamed: 0', 'Purchase', 'WeekofPurchase', 'StoreID', 'PriceCH', 'PriceMM', 'DiscCH', 'DiscMM', 'SpecialCH', 'SpecialMM', 'LoyalCH', 'SalePriceMM', 'SalePriceCH', 'PriceDiff', 'Store7', 'PctDiscMM', 'PctDiscCH', 'ListPriceDiff', 'STORE'], dtype='object')\n",
    "\n",
    "#Missing Values Detection\n",
    "\n",
    "#Check for NaN's\n",
    "df_full[pd.isnull(df_full).any(axis=1)]  #no NaN's\n",
    "\n",
    "#Find any rows containing blank cells (there are none)\n",
    "df_full.iloc[df_full[df_full.applymap(lambda x: str(x) == '').any(axis=1) == True].index.tolist(),:] #empty array\n",
    "\n",
    "#df.head(3) #.columns\n",
    "\n",
    "#df.dtypes  #only the class variable (aka target) is categorical.  All features are numeric.\n",
    "\n",
    "# get min/max/count/std/mean numbers from each column. In particular, ,comparing max-min with std*3 to judge outliers\n",
    "df_full.iloc[:,0:6].describe()\n",
    "df_full.iloc[:, 6:].describe()\n",
    "\n",
    "#Do some misc boxplot checks:\n",
    "import seaborn as sns\n",
    "#sns.boxplot(x=df_full['LoyalCH'])   #no outliers\n",
    "sns.boxplot(x=df_full['PriceDiff'])  #few outliers around -0.6; these are ok (legit)\n"
   ]
  },
  {
   "cell_type": "code",
   "execution_count": 73,
   "metadata": {},
   "outputs": [
    {
     "data": {
      "text/html": [
       "<div>\n",
       "<style scoped>\n",
       "    .dataframe tbody tr th:only-of-type {\n",
       "        vertical-align: middle;\n",
       "    }\n",
       "\n",
       "    .dataframe tbody tr th {\n",
       "        vertical-align: top;\n",
       "    }\n",
       "\n",
       "    .dataframe thead th {\n",
       "        text-align: right;\n",
       "    }\n",
       "</style>\n",
       "<table border=\"1\" class=\"dataframe\">\n",
       "  <thead>\n",
       "    <tr style=\"text-align: right;\">\n",
       "      <th></th>\n",
       "      <th>SalePriceCH</th>\n",
       "      <th>PriceDiff</th>\n",
       "      <th>SpecialCH</th>\n",
       "      <th>SpecialMM</th>\n",
       "      <th>SpecialDiff</th>\n",
       "      <th>PctDiscDiff</th>\n",
       "    </tr>\n",
       "  </thead>\n",
       "  <tbody>\n",
       "    <tr>\n",
       "      <td>count</td>\n",
       "      <td>1070.000000</td>\n",
       "      <td>1070.000000</td>\n",
       "      <td>1070.000000</td>\n",
       "      <td>1070.000000</td>\n",
       "      <td>1070.000000</td>\n",
       "      <td>1070.000000</td>\n",
       "    </tr>\n",
       "    <tr>\n",
       "      <td>mean</td>\n",
       "      <td>1.815561</td>\n",
       "      <td>0.146486</td>\n",
       "      <td>0.147664</td>\n",
       "      <td>0.161682</td>\n",
       "      <td>0.014019</td>\n",
       "      <td>0.031985</td>\n",
       "    </tr>\n",
       "    <tr>\n",
       "      <td>std</td>\n",
       "      <td>0.143384</td>\n",
       "      <td>0.271563</td>\n",
       "      <td>0.354932</td>\n",
       "      <td>0.368331</td>\n",
       "      <td>0.549504</td>\n",
       "      <td>0.118465</td>\n",
       "    </tr>\n",
       "    <tr>\n",
       "      <td>min</td>\n",
       "      <td>1.390000</td>\n",
       "      <td>-0.670000</td>\n",
       "      <td>0.000000</td>\n",
       "      <td>0.000000</td>\n",
       "      <td>-1.000000</td>\n",
       "      <td>-0.251256</td>\n",
       "    </tr>\n",
       "    <tr>\n",
       "      <td>25%</td>\n",
       "      <td>1.750000</td>\n",
       "      <td>0.000000</td>\n",
       "      <td>0.000000</td>\n",
       "      <td>0.000000</td>\n",
       "      <td>0.000000</td>\n",
       "      <td>0.000000</td>\n",
       "    </tr>\n",
       "    <tr>\n",
       "      <td>50%</td>\n",
       "      <td>1.860000</td>\n",
       "      <td>0.230000</td>\n",
       "      <td>0.000000</td>\n",
       "      <td>0.000000</td>\n",
       "      <td>0.000000</td>\n",
       "      <td>0.000000</td>\n",
       "    </tr>\n",
       "    <tr>\n",
       "      <td>75%</td>\n",
       "      <td>1.890000</td>\n",
       "      <td>0.320000</td>\n",
       "      <td>0.000000</td>\n",
       "      <td>0.000000</td>\n",
       "      <td>0.000000</td>\n",
       "      <td>0.095694</td>\n",
       "    </tr>\n",
       "    <tr>\n",
       "      <td>max</td>\n",
       "      <td>2.090000</td>\n",
       "      <td>0.640000</td>\n",
       "      <td>1.000000</td>\n",
       "      <td>1.000000</td>\n",
       "      <td>1.000000</td>\n",
       "      <td>0.402010</td>\n",
       "    </tr>\n",
       "  </tbody>\n",
       "</table>\n",
       "</div>"
      ],
      "text/plain": [
       "       SalePriceCH    PriceDiff    SpecialCH    SpecialMM  SpecialDiff  \\\n",
       "count  1070.000000  1070.000000  1070.000000  1070.000000  1070.000000   \n",
       "mean      1.815561     0.146486     0.147664     0.161682     0.014019   \n",
       "std       0.143384     0.271563     0.354932     0.368331     0.549504   \n",
       "min       1.390000    -0.670000     0.000000     0.000000    -1.000000   \n",
       "25%       1.750000     0.000000     0.000000     0.000000     0.000000   \n",
       "50%       1.860000     0.230000     0.000000     0.000000     0.000000   \n",
       "75%       1.890000     0.320000     0.000000     0.000000     0.000000   \n",
       "max       2.090000     0.640000     1.000000     1.000000     1.000000   \n",
       "\n",
       "       PctDiscDiff  \n",
       "count  1070.000000  \n",
       "mean      0.031985  \n",
       "std       0.118465  \n",
       "min      -0.251256  \n",
       "25%       0.000000  \n",
       "50%       0.000000  \n",
       "75%       0.095694  \n",
       "max       0.402010  "
      ]
     },
     "execution_count": 73,
     "metadata": {},
     "output_type": "execute_result"
    }
   ],
   "source": [
    "\n",
    "#Add Engineered Columns:\n",
    "df_full['DiscDiff']    = df_full['DiscMM']    - df_full['DiscCH']\n",
    "df_full['SpecialDiff'] = df_full['SpecialMM'] - df_full['SpecialCH']\n",
    "df_full['PctDiscDiff'] = df_full['PctDiscMM'] - df_full['PctDiscCH']\n",
    "\n",
    "\n",
    "#switch to shortform name (df):\n",
    "df = df_full.loc[:,['WeekofPurchase','LoyalCH','StoreID','ListPriceDiff','DiscDiff','SalePriceMM','SalePriceCH','PriceDiff','SpecialCH','SpecialMM','SpecialDiff','PctDiscDiff','Purchase']]\n",
    "\n",
    "#df.head(3) #.columns\n",
    "\n",
    "#df.dtypes  #only the class variable (aka target) is categorical.  All features are numeric.\n",
    "\n",
    "# get min/max/count/std/mean numbers from each column. In particular, ,comparing max-min with std*3 to judge outliers\n",
    "df.iloc[:,0:6].describe()\n",
    "df.iloc[:, 6:].describe()\n",
    "\n",
    "\n",
    "## Pairplot (commenting out as it takes a while to run)\n",
    "#sns.pairplot(df)\n"
   ]
  },
  {
   "cell_type": "code",
   "execution_count": 74,
   "metadata": {},
   "outputs": [
    {
     "data": {
      "text/plain": [
       "Text(0.5, 1.0, 'Minute Maid Purchases vs CH Loyalty')"
      ]
     },
     "execution_count": 74,
     "metadata": {},
     "output_type": "execute_result"
    },
    {
     "data": {
      "image/png": "[encoded data removed]",
      "text/plain": [
       "<Figure size 432x288 with 1 Axes>"
      ]
     },
     "metadata": {},
     "output_type": "display_data"
    },
    {
     "data": {
      "image/png": "[encoded data removed]",
      "text/plain": [
       "<Figure size 432x288 with 1 Axes>"
      ]
     },
     "metadata": {},
     "output_type": "display_data"
    }
   ],
   "source": [
    "### Visual EDA ###\n",
    "\n",
    "# Looking at loyalty metric versus purchase patterns\n",
    "pd.DataFrame.hist(data = df_full.loc[df_full['Purchase']=='CH',['LoyalCH']], bins = 10, color=['red'])  \n",
    "plt.title('Citrus Hill Purchases vs CH Loyalty')\n",
    "\n",
    "pd.DataFrame.hist(data = df_full.loc[df_full['Purchase']=='MM',['LoyalCH']], bins = 10, color=['orange'])  \n",
    "plt.title('Minute Maid Purchases vs CH Loyalty')\n"
   ]
  },
  {
   "cell_type": "code",
   "execution_count": 75,
   "metadata": {},
   "outputs": [
    {
     "data": {
      "text/plain": [
       "(13.01, -0.01)"
      ]
     },
     "execution_count": 75,
     "metadata": {},
     "output_type": "execute_result"
    },
    {
     "data": {
      "image/png": "[encoded data removed]",
      "text/plain": [
       "<Figure size 432x288 with 2 Axes>"
      ]
     },
     "metadata": {},
     "output_type": "display_data"
    }
   ],
   "source": [
    "\n",
    "### Visual EDA ###\n",
    "\n",
    "\n",
    "#show correlation matrix as heatmap\n",
    "corr = df.corr()\n",
    "ax = sns.heatmap(\n",
    "    corr, \n",
    "    vmin=-1, vmax=1, center=0,\n",
    "    cmap=sns.diverging_palette(0, 500, n=100),\n",
    "    annot = False,\n",
    "    square=True\n",
    ")\n",
    "\n",
    "##cmap=sns.diverging_palette(20, 220, n=200),\n",
    "    \n",
    "ax.set_xticklabels(\n",
    "    ax.get_xticklabels(),\n",
    "    rotation=45,\n",
    "    horizontalalignment='right'\n",
    ")\n",
    "        \n",
    "ax.set_ylim(len(df.columns)+0.01, -0.01)  #to get around a display bug in seaborn.\n",
    "    "
   ]
  },
  {
   "cell_type": "code",
   "execution_count": 76,
   "metadata": {},
   "outputs": [
    {
     "name": "stderr",
     "output_type": "stream",
     "text": [
      "'c' argument looks like a single numeric RGB or RGBA sequence, which should be avoided as value-mapping will have precedence in case its length matches with 'x' & 'y'.  Please use a 2-D array with a single row if you really want to specify the same RGB or RGBA value for all points.\n"
     ]
    },
    {
     "data": {
      "text/plain": [
       "[<matplotlib.lines.Line2D at 0x19a6989c3c8>]"
      ]
     },
     "execution_count": 76,
     "metadata": {},
     "output_type": "execute_result"
    },
    {
     "data": {
      "image/png": "[encoded data removed]",
      "text/plain": [
       "<Figure size 432x288 with 1 Axes>"
      ]
     },
     "metadata": {},
     "output_type": "display_data"
    }
   ],
   "source": [
    "### Visual EDA ###\n",
    "\n",
    "# See how much a Higher MM Discount leads to Higher % of MM Transactions\n",
    "\n",
    "df_PurchMMCountAndPDD  = df.loc[df['Purchase'] == 'MM',:]    \\\n",
    "                    .groupby([\"WeekofPurchase\",\"StoreID\"]) \\\n",
    "                    .agg({'Purchase' : 'count', 'PctDiscDiff' : 'mean'}) \\\n",
    "                    .rename(columns={'Purchase' : 'PurchaseMMCount','PctDiscDiff' : 'PctDiscDiff'}) \\\n",
    "                    .apply(lambda x : x )\n",
    "\n",
    "df_PurchCHCount    = df.loc[df['Purchase'] == 'CH',:]    \\\n",
    "                    .groupby([\"WeekofPurchase\",\"StoreID\"]) \\\n",
    "                    .agg({'Purchase' : 'count'}) \\\n",
    "                    .rename(columns={'Purchase' : 'PurchaseCHCount'}) \\\n",
    "                    .apply(lambda x : x )\n",
    "\n",
    "\n",
    "#\n",
    "\n",
    "#df_PurchMMCountAndPCD.head(3)\n",
    "\n",
    "#df_graphable = df[.loc[:,['PctChgDiff','Purchase','Loyalty']]\n",
    "df_graphable = pd.merge(df_PurchMMCountAndPDD,df_PurchCHCount, how='inner', on=['WeekofPurchase','StoreID'])\n",
    "#df_graphable['PctChgDiff'] = df_PctChgDiff\n",
    "df_graphable['PurchaseMMCount'] = df_graphable['PurchaseMMCount'].astype('float64') # pd.to_numeric(df_graphable['PurchaseMMCount'])\n",
    "df_graphable['PurchaseCHCount'] = df_graphable['PurchaseCHCount'].astype('float64') # pd.to_numeric(df_graphable['PurchaseMMCount'])\n",
    "df_graphable['pct_MM_Transactions'] = (df_graphable['PurchaseMMCount'])/(df_graphable['PurchaseCHCount'] + df_graphable['PurchaseMMCount'])\n",
    "\n",
    "#df_graphable.head(5)\n",
    "#df_graphable['Purchase_boolean'] = df['Purchase'].apply(lambda x : )\n",
    "ax1 = df_graphable.plot.scatter(x ='PctDiscDiff', y = 'pct_MM_Transactions', title='%MM Transactions vs MMDiscPctDiff')\n",
    "#ax1.title('%MM Transactions vs %DiscDiff (MM as %Tot)')\n",
    "\n",
    "#add trendline\n",
    "x = df_graphable['PctDiscDiff']\n",
    "y = df_graphable['pct_MM_Transactions']\n",
    "\n",
    "z = np.polyfit(x, y, 1)\n",
    "p = np.poly1d(z)\n",
    "ax1.plot(x,p(x),\"r--\")\n",
    "#ax1.show()\n"
   ]
  },
  {
   "cell_type": "code",
   "execution_count": 77,
   "metadata": {},
   "outputs": [
    {
     "data": {
      "text/plain": [
       "[<matplotlib.lines.Line2D at 0x19a6b57a4e0>]"
      ]
     },
     "execution_count": 77,
     "metadata": {},
     "output_type": "execute_result"
    },
    {
     "data": {
      "image/png": "[encoded data removed]",
      "text/plain": [
       "<Figure size 432x288 with 1 Axes>"
      ]
     },
     "metadata": {},
     "output_type": "display_data"
    }
   ],
   "source": [
    "\n",
    "### Visual EDA ###\n",
    "\n",
    "# See how much a Higher MM Discount leads to Higher % of MM Transactions\n",
    "\n",
    "df_PurchMMCountAndPD  = df.loc[df['Purchase'] == 'MM',:]    \\\n",
    "                    .groupby([\"WeekofPurchase\",\"StoreID\"]) \\\n",
    "                    .agg({'Purchase' : 'count', 'PriceDiff' : 'mean'}) \\\n",
    "                    .rename(columns={'Purchase' : 'PurchaseMMCount','PriceDiff' : 'PriceDiff'}) \\\n",
    "                    .apply(lambda x : x )\n",
    "\n",
    "df_PurchCHCount    = df.loc[df['Purchase'] == 'CH',:]    \\\n",
    "                    .groupby([\"WeekofPurchase\",\"StoreID\"]) \\\n",
    "                    .agg({'Purchase' : 'count', 'StoreID' : 'max'}) \\\n",
    "                    .rename(columns={'Purchase' : 'PurchaseCHCount', 'StoreID' : 'StoreNo'}) \\\n",
    "                    .apply(lambda x : x )\n",
    "\n",
    "\n",
    "#\n",
    "\n",
    "#df_PurchMMCountAndPCD.head(3)\n",
    "\n",
    "#df_graphable = df[.loc[:,['PctChgDiff','Purchase','Loyalty']]\n",
    "df_graphable = pd.merge(df_PurchMMCountAndPD,df_PurchCHCount, how='inner', on=['WeekofPurchase','StoreID'])\n",
    "#df_graphable['PctChgDiff'] = df_PctChgDiff\n",
    "df_graphable['PurchaseMMCount'] = df_graphable['PurchaseMMCount'].astype('float64') # pd.to_numeric(df_graphable['PurchaseMMCount'])\n",
    "df_graphable['PurchaseCHCount'] = df_graphable['PurchaseCHCount'].astype('float64') # pd.to_numeric(df_graphable['PurchaseMMCount'])\n",
    "df_graphable['pct_MM_Transactions'] = (df_graphable['PurchaseMMCount'])/(df_graphable['PurchaseCHCount'] + df_graphable['PurchaseMMCount'])\n",
    "\n",
    "\n",
    "#df_graphable.head(5)\n",
    "#df_graphable['Purchase_boolean'] = df['Purchase'].apply(lambda x : )\n",
    "ax1 = df_graphable.plot.scatter(x ='PriceDiff', y = 'pct_MM_Transactions', title='%MM Transactions vs MMPricePremium (by Store)',color=df_graphable['StoreNo'])\n",
    "#ax1.title('%MM Transactions vs %DiscDiff (MM as %Tot)')\n",
    "\n",
    "#add trendline\n",
    "x = df_graphable['PriceDiff']\n",
    "y = df_graphable['pct_MM_Transactions']\n",
    "\n",
    "z = np.polyfit(x, y, 1)\n",
    "p = np.poly1d(z)\n",
    "ax1.plot(x,p(x),\"r--\")\n",
    "#ax1.show()\n"
   ]
  },
  {
   "cell_type": "code",
   "execution_count": 78,
   "metadata": {},
   "outputs": [
    {
     "name": "stdout",
     "output_type": "stream",
     "text": [
      "\n",
      "******** CHOICE OF PERFORMANCE METRIC.... ********  \n",
      "\n",
      "\n",
      "I am not clear on what the business motivation is, here.  is it \n",
      "\n",
      " just for inventory management / SKU re-ordering accuracy or is\n",
      "\n",
      " is it to maximize revenue.  i wont do it for revenue calcs as \n",
      "\n",
      " we dont have #/units per transaction, anyway.  \n",
      "\n",
      "...I'll adopt F1 score as my performance metric to strike a nice \n",
      "\n",
      "\n",
      " balance between not being too biased towards neither MM nor CH. \n",
      "\n",
      "\n",
      "***************************************************  \n",
      "\n"
     ]
    }
   ],
   "source": [
    "\n",
    "#performance metric choice\n",
    "\n",
    "\n",
    "print (\"\\n******** CHOICE OF PERFORMANCE METRIC.... ********  \\n\")\n",
    "\n",
    "\n",
    "print (\"\\nI am not clear on what the business motivation is, here.  is it \")\n",
    "print (\"\\n just for inventory management / SKU re-ordering accuracy or is\")\n",
    "print (\"\\n is it to maximize revenue.  i wont do it for revenue calcs as \")\n",
    "print (\"\\n we dont have #/units per transaction, anyway.  \")\n",
    "\n",
    "print (\"\\n...I'll adopt F1 score as my performance metric to strike a nice \\n\")\n",
    "print (\"\\n balance between not being too biased towards neither MM nor CH. \\n\")\n",
    "print (\"\\n***************************************************  \\n\")\n",
    "\n"
   ]
  },
  {
   "cell_type": "code",
   "execution_count": 79,
   "metadata": {},
   "outputs": [
    {
     "name": "stdout",
     "output_type": "stream",
     "text": [
      "\n",
      "Before Rebalancing:\n",
      "\n",
      "\n",
      "After Rebalancing:\n",
      "\n"
     ]
    },
    {
     "data": {
      "text/plain": [
       "MM    653\n",
       "CH    653\n",
       "Name: Purchase, dtype: int64"
      ]
     },
     "execution_count": 79,
     "metadata": {},
     "output_type": "execute_result"
    }
   ],
   "source": [
    "## Class Balancer\n",
    "\n",
    "from sklearn.utils import resample\n",
    "\n",
    "# use shortname\n",
    "#df = X_prepared\n",
    "\n",
    "# Before\n",
    "print(\"\\nBefore Rebalancing:\\n\")\n",
    "df.Purchase.value_counts()\n",
    "\n",
    "# Separate majority and minority classes\n",
    "df_majority = df[df.Purchase == 'CH']\n",
    "df_minority = df[df.Purchase == 'MM']\n",
    " \n",
    "nbr_samples = len(df_majority)\n",
    "\n",
    "# Upsample minority class\n",
    "df_minority_upsampled = resample(df_minority, \n",
    "                                 replace=True,     # sample with replacement\n",
    "                                 n_samples=nbr_samples,    # to match majority class\n",
    "                                 random_state=123) # reproducible results\n",
    " \n",
    "# Combine majority class with upsampled minority class\n",
    "df_balanced = pd.concat([df_majority, df_minority_upsampled])\n",
    " \n",
    "\n",
    "# Display new class counts\n",
    "print(\"\\nAfter Rebalancing:\\n\")\n",
    "df_balanced.Purchase.value_counts()\n",
    "\n",
    "#Ouput:\n",
    "# MM    653\n",
    "# CH    653\n",
    "# Name: Purchase, dtype: int64\n"
   ]
  },
  {
   "cell_type": "code",
   "execution_count": 80,
   "metadata": {},
   "outputs": [],
   "source": [
    "\n",
    "## Choice for Splitting into Test/Train Sets.\n",
    "\n",
    "# plain old random sampling\n",
    "from sklearn.model_selection import train_test_split\n",
    "\n",
    "df_train_set, df_test_set = train_test_split(df_balanced, test_size=0.2, random_state=42)\n",
    "\n",
    "#df_train_set.head(3)\n",
    "#df_test_set.head(3)\n",
    "\n",
    "# note: i can come back later and consider stratified sampling on bins made from the\n",
    "# loyalCH feature.  honestly, i'm not sure if the stratas should be based on \n",
    "# that hypothetical bin or the label as the bin.  I dont think it matters much for this dataset, frankly.\n"
   ]
  },
  {
   "cell_type": "code",
   "execution_count": 81,
   "metadata": {},
   "outputs": [],
   "source": [
    "### One quick helper function that will be used shortly.\n",
    "\n",
    "\n",
    "#We can create custom Transformers using scikit learn, all you need to do is import BaseEstimator, and TransformerMixin\n",
    "#from sklearn.base:\n",
    "\n",
    "from sklearn.base import BaseEstimator, TransformerMixin\n",
    "\n",
    "#Below class selects the Dataframe column attributes, will be used to select the numerical and categorical columns\n",
    "#So that they can be isolated and prepared seperately as they have different preperation steps\n",
    "\n",
    "class DataFrameSelector(BaseEstimator, TransformerMixin):\n",
    "    def __init__(self, attribute_names):\n",
    "        self.attribute_names = attribute_names\n",
    "    def fit(self, X, y=None):\n",
    "        return self\n",
    "    def transform(self, X):\n",
    "        return pd.DataFrame(X[self.attribute_names].values, columns=self.attribute_names)\n"
   ]
  },
  {
   "cell_type": "code",
   "execution_count": 82,
   "metadata": {},
   "outputs": [],
   "source": [
    "# Another helper function\n",
    "\n",
    "\n",
    "import numpy as np\n",
    "import matplotlib.pyplot as plt\n",
    "\n",
    "from sklearn import svm, datasets\n",
    "from sklearn.model_selection import train_test_split\n",
    "from sklearn.metrics import confusion_matrix\n",
    "from sklearn.utils.multiclass import unique_labels\n",
    "\n",
    "\n",
    "def plot_confusion_matrix(true, pred):\n",
    "    from sklearn.metrics import confusion_matrix\n",
    "    confusion_matrix = confusion_matrix(true, pred, labels=['MM', 'CH'])\n",
    "\n",
    "    #confusion_matrix = confusion_matrix(true, pred, labels=[1, 0])\n",
    "\n",
    "    #label_encoder={0: \"unoccupied\", 1: \"occupied\"}\n",
    "    \n",
    "    import seaborn as sns; sns.set()\n",
    "    import matplotlib.pyplot as plt\n",
    "\n",
    "    cm_df = pd.DataFrame(confusion_matrix,\n",
    "                 index = ['1', '0'], \n",
    "                 columns = ['1', '0'])\n",
    "    ax = sns.heatmap(cm_df, fmt = 'd' , cmap=\"YlGnBu\", cbar = False,  annot=True)\n",
    "    ax.set_ylim(len(cm_df.columns)+0.01, -0.01)  #to get around a display bug in seaborn.\n",
    "    plt.ylabel('True label')\n",
    "    plt.xlabel('Predicted label')\n",
    "    plt.title('Confusion Matrix')\n",
    "    plt.show()"
   ]
  },
  {
   "cell_type": "code",
   "execution_count": 83,
   "metadata": {},
   "outputs": [],
   "source": [
    "### FORMAL DATA PREPARATION PIPELINE ####\n",
    "\n",
    "# Scale all the numeric features, except Store ID and Week ID.\n",
    "from sklearn.pipeline import Pipeline\n",
    "from sklearn.pipeline import FeatureUnion\n",
    "from sklearn.preprocessing import MinMaxScaler\n",
    "#from sklearn.preprocessing import StandardScaler\n",
    "\n",
    "##use short form\n",
    "##df = df_train_set\n",
    "\n",
    "# Define the num_attribs, cat_attribs, and labels\n",
    "num_attribs = ['LoyalCH','ListPriceDiff','DiscDiff','SalePriceMM','SalePriceCH','PriceDiff','SpecialDiff','PctDiscDiff']\n",
    "cat_attribs = ['WeekofPurchase','StoreID','SpecialCH','SpecialMM']\n",
    "labels      = ['Purchase']\n",
    "\n",
    "##strictly speaking we could further reduce the number of columns from the training partition\n",
    "##X = df[num_attribs + cat_attribs]\n",
    "##y = df[labels]\n",
    "\n",
    "#X.head(3)\n",
    "#y.head(9)\n",
    "\n",
    "#numeric columns only; exclude boolean and nominals\n",
    "num_pipeline = Pipeline([\n",
    "            ('selector', DataFrameSelector(num_attribs)),\n",
    "            ('minmax_scaler', MinMaxScaler())    \n",
    "        ])\n",
    "\n",
    "#this cat_pipeline takes categorical data and dooes nothing with it (no onehotencoding needed, for eg)\n",
    "cat_pipeline = Pipeline([\n",
    "    ('selector', DataFrameSelector(cat_attribs))\n",
    "])\n",
    "\n",
    "\n",
    "#this combines above pipelines in order\n",
    "full_pipeline = FeatureUnion(transformer_list=[\n",
    "    (\"num_pipeline\", num_pipeline),\n",
    "    (\"cat_pipeline\", cat_pipeline),\n",
    "    \n",
    "]) \n",
    "\n",
    "    \n",
    "    \n",
    "#  The features are now minmax-scaled and our label dataframe (y) is ready to go now.\n",
    "X_train = full_pipeline.fit_transform(df_train_set[num_attribs + cat_attribs])\n",
    "y_train = df_train_set[labels]\n",
    "\n",
    "\n",
    "# use the test set to validated the model-predicted values, in y_predicted\n",
    "X_test = full_pipeline.fit_transform(df_test_set[num_attribs + cat_attribs])\n",
    "y_test = df_test_set[labels]\n"
   ]
  },
  {
   "cell_type": "code",
   "execution_count": 84,
   "metadata": {},
   "outputs": [
    {
     "name": "stdout",
     "output_type": "stream",
     "text": [
      "\n",
      ">>>>>>>>>>>>  1. DECISION TREE CLASSIFIER  <<<<<<<<<<<<<<<<<           \n",
      "\n",
      "\n",
      "****************  CONFUSION MATRIX: ****************************\n",
      "\n"
     ]
    },
    {
     "data": {
      "image/png": "[encoded data removed]",
      "text/plain": [
       "<Figure size 432x288 with 1 Axes>"
      ]
     },
     "metadata": {},
     "output_type": "display_data"
    },
    {
     "name": "stdout",
     "output_type": "stream",
     "text": [
      "\n",
      "\n",
      "**************** Performance Measures *****************************\n",
      "Accuracy = 0.80\n",
      "Kappa = 0.60\n",
      "F1 Score = 0.82\n"
     ]
    }
   ],
   "source": [
    "#### THE CLASSIFICATION MODELS #####\n",
    "\n",
    "#################################################################\n",
    "# 1. Decision Tree Classifier\n",
    "#################################################################\n",
    "print (\"\\n>>>>>>>>>>>>  1. DECISION TREE CLASSIFIER  <<<<<<<<<<<<<<<<<           \\n\");\n",
    "\n",
    "from sklearn.tree import DecisionTreeClassifier\n",
    "from sklearn.metrics import confusion_matrix\n",
    "\n",
    "## Hyperparameter Tuning\n",
    "# E.g. criterion can be 'gini' or 'entropy'\n",
    "clf_entropy = DecisionTreeClassifier(random_state=42, criterion=\"entropy\",\n",
    "                             max_depth=4, \n",
    "                             max_leaf_nodes=5)\n",
    "#                             min_samples_split=10, \n",
    "#                             min_samples_leaf=10, \n",
    "\n",
    "\n",
    "                             \n",
    "#train model\n",
    "clf_entropy.fit(X_train, y_train)\n",
    "\n",
    "#test model\n",
    "y_predicted = clf_entropy.predict(X_test)\n",
    "\n",
    "\n",
    "###Gini provides an F1 of 0.82 and Accuracy of 0.81 Cohen Kappa 0.62 (not signifly diff from entropy-based)\n",
    "###clf_gini = DecisionTreeClassifier(random_state=42, criterion=\"gini\",\n",
    "###                            min_samples_split=10, min_samples_leaf=10, max_depth=3, max_leaf_nodes=5)\n",
    "###clf_gini.fit(X_train, y_train)\n",
    "###y_predicted = clf_gini.predict(X_test)\n",
    "\n",
    "\n",
    "# looks like it is using class imbalance to show accurate results\n",
    "print(\"\\n****************  CONFUSION MATRIX: ****************************\\n\")\n",
    "#print (\"\\nConfusion Matrix:\\n\")\n",
    "\n",
    "plot_confusion_matrix(y_test, y_predicted)\n",
    "#confusion_matrix( y_test, y_predicted )\n",
    "print (\"\\n\")\n",
    "\n",
    "\n",
    "from sklearn.metrics import accuracy_score, cohen_kappa_score, f1_score\n",
    "\n",
    "print('**************** Performance Measures *****************************')\n",
    "print(\"Accuracy = {:.2f}\".format(accuracy_score(y_test, y_predicted)))\n",
    "print(\"Kappa = {:.2f}\".format(cohen_kappa_score(y_test, y_predicted)))\n",
    "print(\"F1 Score = {:.2f}\".format(f1_score(y_test, y_predicted, pos_label=\"MM\")))\n"
   ]
  },
  {
   "cell_type": "code",
   "execution_count": 85,
   "metadata": {},
   "outputs": [
    {
     "name": "stdout",
     "output_type": "stream",
     "text": [
      "\n",
      ">>>>>>>>>>>>  2. SVM  <<<<<<<<<<<<<<<<<           \n",
      "\n",
      "\n",
      "****************  CONFUSION MATRIX: ****************************\n",
      "\n"
     ]
    },
    {
     "data": {
      "image/png": "[encoded data removed]",
      "text/plain": [
       "<Figure size 432x288 with 1 Axes>"
      ]
     },
     "metadata": {},
     "output_type": "display_data"
    },
    {
     "name": "stdout",
     "output_type": "stream",
     "text": [
      "\n",
      "\n",
      "**************** Performance Measures *****************************\n",
      "Accuracy = 0.70\n",
      "Kappa = 0.41\n",
      "F1 Score = 0.72\n"
     ]
    }
   ],
   "source": [
    "\n",
    "#################################################################\n",
    "# 2.  SVM\n",
    "#################################################################\n",
    "print (\"\\n>>>>>>>>>>>>  2. SVM  <<<<<<<<<<<<<<<<<           \\n\");\n",
    "\n",
    "from sklearn import svm\n",
    "from sklearn.metrics import confusion_matrix\n",
    "\n",
    "## Hyperparameter Tuning\n",
    "#clf = svm.SVC(gamma=0.001)\n",
    "#clf = svm.SVC(gamma=0.002)\n",
    "#clf = svm.SVC(gamma=0.01)\n",
    "clf = svm.SVC(gamma=0.02)\n",
    "\n",
    "clf.fit(X_train, y_train.values.ravel() )\n",
    "#confusion_matrix(y_test, clf.predict(X_test))\n",
    "\n",
    "y_predicted = clf.predict(X_test)\n",
    "\n",
    "\n",
    "# looks like it is using class imbalance to show accurate results\n",
    "print(\"\\n****************  CONFUSION MATRIX: ****************************\\n\")\n",
    "#print (\"\\nConfusion Matrix:\\n\")\n",
    "plot_confusion_matrix(y_test, y_predicted)\n",
    "#confusion_matrix( y_test, y_predicted )\n",
    "print (\"\\n\")\n",
    "\n",
    "\n",
    "from sklearn.metrics import accuracy_score, cohen_kappa_score, f1_score\n",
    "\n",
    "print('**************** Performance Measures *****************************')\n",
    "print(\"Accuracy = {:.2f}\".format(accuracy_score(y_test, y_predicted)))\n",
    "print(\"Kappa = {:.2f}\".format(cohen_kappa_score(y_test, y_predicted)))\n",
    "print(\"F1 Score = {:.2f}\".format(f1_score(y_test, y_predicted, pos_label=\"MM\")))\n",
    "\n"
   ]
  },
  {
   "cell_type": "code",
   "execution_count": 86,
   "metadata": {},
   "outputs": [
    {
     "name": "stdout",
     "output_type": "stream",
     "text": [
      "\n",
      ">>>>>>>>>>>>  3. K Nearest Neighbors  <<<<<<<<<<<<<<<<<           \n",
      "\n",
      "\n",
      "****************  CONFUSION MATRIX: ****************************\n",
      "\n"
     ]
    },
    {
     "data": {
      "image/png": "[encoded data removed]",
      "text/plain": [
       "<Figure size 432x288 with 1 Axes>"
      ]
     },
     "metadata": {},
     "output_type": "display_data"
    },
    {
     "name": "stdout",
     "output_type": "stream",
     "text": [
      "\n",
      "\n",
      "**************** Performance Measures *****************************\n",
      "Accuracy = 0.76\n",
      "Kappa = 0.52\n",
      "F1 Score = 0.77\n"
     ]
    }
   ],
   "source": [
    "\n",
    "#################################################################\n",
    "# 3.  K Nearest Neighbors\n",
    "#################################################################\n",
    "print (\"\\n>>>>>>>>>>>>  3. K Nearest Neighbors  <<<<<<<<<<<<<<<<<           \\n\");\n",
    "\n",
    "from sklearn.neighbors import KNeighborsClassifier\n",
    "#from sklearn.metrics import confusion_matrix\n",
    "#import numpy as np #for ravel() function\n",
    "\n",
    "\n",
    "## Hyperparameter Tuning\n",
    "neigh = KNeighborsClassifier(n_neighbors=3)\n",
    "\n",
    "#train\n",
    "#neigh.fit(X_train, y_train)\n",
    "neigh.fit(X_train, y_train.values.ravel())  \n",
    "\n",
    "#test\n",
    "y_predicted = neigh.predict(X_test)\n",
    "\n",
    "\n",
    "# looks like it is using class imbalance to show accurate results\n",
    "print(\"\\n****************  CONFUSION MATRIX: ****************************\\n\")\n",
    "#print (\"\\nConfusion Matrix:\\n\")\n",
    "plot_confusion_matrix(y_test, y_predicted)\n",
    "#confusion_matrix( y_test, y_predicted )\n",
    "print (\"\\n\")\n",
    "\n",
    "\n",
    "from sklearn.metrics import accuracy_score, cohen_kappa_score, f1_score\n",
    "\n",
    "print('**************** Performance Measures *****************************')\n",
    "print(\"Accuracy = {:.2f}\".format(accuracy_score(y_test, y_predicted)))\n",
    "print(\"Kappa = {:.2f}\".format(cohen_kappa_score(y_test, y_predicted)))\n",
    "print(\"F1 Score = {:.2f}\".format(f1_score(y_test, y_predicted, pos_label=\"MM\")))\n",
    "\n"
   ]
  },
  {
   "cell_type": "code",
   "execution_count": 87,
   "metadata": {},
   "outputs": [
    {
     "name": "stdout",
     "output_type": "stream",
     "text": [
      "\n",
      ">>>>>>>>>>>>  4. Logistic Regression  <<<<<<<<<<<<<<<<<           \n",
      "\n",
      "\n",
      "****************  CONFUSION MATRIX: ****************************\n",
      "\n"
     ]
    },
    {
     "data": {
      "image/png": "[encoded data removed]",
      "text/plain": [
       "<Figure size 432x288 with 1 Axes>"
      ]
     },
     "metadata": {},
     "output_type": "display_data"
    },
    {
     "name": "stdout",
     "output_type": "stream",
     "text": [
      "\n",
      "\n",
      "**************** Performance Measures *****************************\n",
      "Accuracy = 0.83\n",
      "Kappa = 0.66\n",
      "F1 Score = 0.83\n"
     ]
    }
   ],
   "source": [
    "\n",
    "#################################################################\n",
    "# 4.  Logistic Regression\n",
    "#################################################################\n",
    "print (\"\\n>>>>>>>>>>>>  4. Logistic Regression  <<<<<<<<<<<<<<<<<           \\n\");\n",
    "\n",
    "from sklearn.linear_model import LogisticRegression\n",
    "\n",
    "\n",
    "\n",
    "## Hyperparameter Tuning\n",
    "#log_reg_clf = LogisticRegression(random_state=0, solver='lbfgs')\n",
    "#log_reg_clf = LogisticRegression(random_state=0, solver='lbfgs', max_iter=300)\n",
    "log_reg_clf = LogisticRegression(random_state=0, solver='lbfgs', max_iter=500)\n",
    "\n",
    "#train\n",
    "#neigh.fit(X_train, y_train)\n",
    "log_reg_clf.fit(X_train, y_train.values.ravel())  \n",
    "\n",
    "#test\n",
    "y_predicted = log_reg_clf.predict(X_test)\n",
    "\n",
    "\n",
    "# looks like it is using class imbalance to show accurate results\n",
    "print(\"\\n****************  CONFUSION MATRIX: ****************************\\n\")\n",
    "#print (\"\\nConfusion Matrix:\\n\")\n",
    "plot_confusion_matrix(y_test, y_predicted)\n",
    "#confusion_matrix( y_test, y_predicted )\n",
    "print (\"\\n\")\n",
    "\n",
    "\n",
    "from sklearn.metrics import accuracy_score, cohen_kappa_score, f1_score\n",
    "\n",
    "print('**************** Performance Measures *****************************')\n",
    "print(\"Accuracy = {:.2f}\".format(accuracy_score(y_test, y_predicted)))\n",
    "print(\"Kappa = {:.2f}\".format(cohen_kappa_score(y_test, y_predicted)))\n",
    "print(\"F1 Score = {:.2f}\".format(f1_score(y_test, y_predicted, pos_label=\"MM\")))\n",
    "\n"
   ]
  },
  {
   "cell_type": "code",
   "execution_count": 88,
   "metadata": {},
   "outputs": [
    {
     "name": "stdout",
     "output_type": "stream",
     "text": [
      "\n",
      ">>>>>>>>>>>>  5. XG Boost  <<<<<<<<<<<<<<<<<           \n",
      "\n",
      "\n",
      "****************  CONFUSION MATRIX: ****************************\n",
      "\n"
     ]
    },
    {
     "data": {
      "image/png": "[encoded data removed]",
      "text/plain": [
       "<Figure size 432x288 with 1 Axes>"
      ]
     },
     "metadata": {},
     "output_type": "display_data"
    },
    {
     "name": "stdout",
     "output_type": "stream",
     "text": [
      "\n",
      "\n",
      "**************** Performance Measures *****************************\n",
      "Accuracy = 0.84\n",
      "Kappa = 0.68\n",
      "F1 Score = 0.84\n"
     ]
    }
   ],
   "source": [
    "\n",
    "#################################################################\n",
    "# 5.  XGBoost\n",
    "#################################################################\n",
    "print (\"\\n>>>>>>>>>>>>  5. XG Boost  <<<<<<<<<<<<<<<<<           \\n\");\n",
    "\n",
    "from sklearn.ensemble import GradientBoostingClassifier\n",
    "\n",
    "## Hyperparameter Tuning\n",
    "#XG_clf = GradientBoostingClassifier()\n",
    "#XG_clf = GradientBoostingClassifier(n_estimators = 120, min_samples_leaf=1,min_samples_split=3)\n",
    "XG_clf = GradientBoostingClassifier(n_estimators = 140, min_samples_leaf=1,min_samples_split=2)\n",
    "\n",
    "#train\n",
    "#neigh.fit(X_train, y_train)\n",
    "XG_clf.fit(X_train, y_train.values.ravel())  \n",
    "\n",
    "#test\n",
    "y_predicted = XG_clf.predict(X_test)\n",
    "\n",
    "\n",
    "# looks like it is using class imbalance to show accurate results\n",
    "print(\"\\n****************  CONFUSION MATRIX: ****************************\\n\")\n",
    "#print (\"\\nConfusion Matrix:\\n\")\n",
    "plot_confusion_matrix(y_test, y_predicted)\n",
    "#confusion_matrix( y_test, y_predicted )\n",
    "print (\"\\n\")\n",
    "\n",
    "\n",
    "from sklearn.metrics import accuracy_score, cohen_kappa_score, f1_score\n",
    "\n",
    "print('**************** Performance Measures *****************************')\n",
    "print(\"Accuracy = {:.2f}\".format(accuracy_score(y_test, y_predicted)))\n",
    "print(\"Kappa = {:.2f}\".format(cohen_kappa_score(y_test, y_predicted)))\n",
    "print(\"F1 Score = {:.2f}\".format(f1_score(y_test, y_predicted, pos_label=\"MM\")))\n",
    "\n"
   ]
  },
  {
   "cell_type": "code",
   "execution_count": 89,
   "metadata": {},
   "outputs": [
    {
     "name": "stdout",
     "output_type": "stream",
     "text": [
      "\n",
      ">>>>>>>>>>>>  6. Random Forest Classifier  <<<<<<<<<<<<<<<<<           \n",
      "\n",
      "\n",
      "****************  CONFUSION MATRIX: ****************************\n",
      "\n"
     ]
    },
    {
     "data": {
      "image/png": "[encoded data removed]",
      "text/plain": [
       "<Figure size 432x288 with 1 Axes>"
      ]
     },
     "metadata": {},
     "output_type": "display_data"
    },
    {
     "name": "stdout",
     "output_type": "stream",
     "text": [
      "\n",
      "\n",
      "**************** Performance Measures *****************************\n",
      "Accuracy = 0.84\n",
      "Kappa = 0.67\n",
      "F1 Score = 0.84\n"
     ]
    }
   ],
   "source": [
    "\n",
    "#################################################################\n",
    "# 6.  Random Forest Classifier\n",
    "#################################################################\n",
    "print (\"\\n>>>>>>>>>>>>  6. Random Forest Classifier  <<<<<<<<<<<<<<<<<           \\n\");\n",
    "\n",
    "from sklearn.ensemble import RandomForestClassifier\n",
    "\n",
    "## Hyperparameter Tuning\n",
    "#randfor_clf = RandomForestClassifier(n_estimators=500, max_leaf_nodes=16, n_jobs=-1)\n",
    "#randfor_clf = RandomForestClassifier(n_estimators=300, max_leaf_nodes=12, n_jobs=-1)\n",
    "randfor_clf = RandomForestClassifier(n_estimators=200, max_leaf_nodes=10, n_jobs=-1)\n",
    "\n",
    "#train\n",
    "#neigh.fit(X_train, y_train)\n",
    "randfor_clf.fit(X_train, y_train.values.ravel())  \n",
    "\n",
    "#test\n",
    "y_predicted = randfor_clf.predict(X_test)\n",
    "\n",
    "\n",
    "# looks like it is using class imbalance to show accurate results\n",
    "print(\"\\n****************  CONFUSION MATRIX: ****************************\\n\")\n",
    "#print (\"\\nConfusion Matrix:\\n\")\n",
    "plot_confusion_matrix(y_test, y_predicted)\n",
    "#confusion_matrix( y_test, y_predicted )\n",
    "print (\"\\n\")\n",
    "\n",
    "\n",
    "from sklearn.metrics import accuracy_score, cohen_kappa_score, f1_score\n",
    "\n",
    "print('**************** Performance Measures *****************************')\n",
    "print(\"Accuracy = {:.2f}\".format(accuracy_score(y_test, y_predicted)))\n",
    "print(\"Kappa = {:.2f}\".format(cohen_kappa_score(y_test, y_predicted)))\n",
    "print(\"F1 Score = {:.2f}\".format(f1_score(y_test, y_predicted, pos_label=\"MM\")))\n",
    "\n"
   ]
  }
 ],
 "metadata": {
  "kernelspec": {
   "display_name": "Python 3",
   "language": "python",
   "name": "python3"
  },
  "language_info": {
   "codemirror_mode": {
    "name": "ipython",
    "version": 3
   },
   "file_extension": ".py",
   "mimetype": "text/x-python",
   "name": "python",
   "nbconvert_exporter": "python",
   "pygments_lexer": "ipython3",
   "version": "3.7.3"
  }
 },
 "nbformat": 4,
 "nbformat_minor": 2
}
